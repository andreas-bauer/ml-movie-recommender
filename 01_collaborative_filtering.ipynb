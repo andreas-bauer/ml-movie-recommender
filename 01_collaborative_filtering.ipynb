{
 "cells": [
  {
   "cell_type": "code",
   "execution_count": null,
   "metadata": {},
   "outputs": [],
   "source": [
    "import torch\n",
    "import torch.nn as nn\n",
    "import pandas as pd\n",
    "import torch.nn.functional as F\n",
    "from sklearn.model_selection import train_test_split"
   ]
  },
  {
   "cell_type": "code",
   "execution_count": null,
   "metadata": {},
   "outputs": [],
   "source": [
    "df_ratings = pd.read_csv('data/ratings_small.csv', usecols=['userId','movieId','rating'])\n",
    "df_ratings.head(10)"
   ]
  },
  {
   "cell_type": "code",
   "execution_count": null,
   "metadata": {},
   "outputs": [],
   "source": [
    "df_ratings['movieId'] = pd.factorize(df_ratings.movieId)[0]\n",
    "df_ratings.head(10)"
   ]
  },
  {
   "cell_type": "markdown",
   "metadata": {},
   "source": [
    "Get number of unique users and unique movies"
   ]
  },
  {
   "cell_type": "code",
   "execution_count": null,
   "metadata": {},
   "outputs": [],
   "source": [
    "n_users = df_ratings.userId.nunique()\n",
    "n_movies = df_ratings.movieId.nunique()"
   ]
  },
  {
   "cell_type": "markdown",
   "metadata": {},
   "source": [
    "Split data into training and test data sets."
   ]
  },
  {
   "cell_type": "code",
   "execution_count": null,
   "metadata": {},
   "outputs": [],
   "source": [
    "total_size = len(df_ratings)\n",
    "train_size = int(total_size * 0.7)\n",
    "test_size = total_size - train_size\n",
    "\n",
    "# train_df, test_df = torch.utils.data.random_split(df_ratings, [train_size,test_size], generator=torch.Generator().manual_seed(42))\n",
    "train_df, valid_df = train_test_split(df_ratings, test_size=0.2)"
   ]
  },
  {
   "cell_type": "code",
   "execution_count": null,
   "metadata": {},
   "outputs": [],
   "source": [
    "class CF_Net(nn.Module):\n",
    "    def __init__(self, n_users, n_movies, n_factors=100) -> None:\n",
    "        super(CF_Net, self).__init__()\n",
    "        self.user_emb = nn.Embedding(n_users, n_factors, sparse=True)\n",
    "        self.movie_emb = nn.Embedding(n_movies, n_factors, sparse=True)\n",
    "\n",
    "        self.user_emb.weight.data.uniform_(0, 0.5)\n",
    "        self.movie_emb.weight.data.uniform_(0, 0.5)\n",
    "    def forward(self, u, m):\n",
    "        u = self.user_emb(u)\n",
    "        m = self.movie_emb(m)\n",
    "        return (u*m).sum(1)\n",
    "\n"
   ]
  },
  {
   "cell_type": "code",
   "execution_count": null,
   "metadata": {},
   "outputs": [],
   "source": [
    "model = CF_Net(n_users, n_movies)"
   ]
  },
  {
   "cell_type": "code",
   "execution_count": null,
   "metadata": {},
   "outputs": [],
   "source": [
    "def training(model, epochs, lr=0.01):\n",
    "    loss_func = F.mse_loss \n",
    "    optimizer = torch.optim.SGD(model.parameters(), lr=lr) \n",
    "    model.train()\n",
    "    for i in range(epochs):\n",
    "        users = torch.LongTensor(train_df.userId.values)\n",
    "        movies = torch.LongTensor(train_df.movieId.values)\n",
    "        ratings = torch.FloatTensor(train_df.rating.values)\n",
    "        y = model(users, movies)\n",
    "        loss = loss_func(y, ratings)\n",
    "        optimizer.zero_grad()  \n",
    "        loss.backward()\n",
    "        optimizer.step()\n",
    "        print(loss.item())\n"
   ]
  }
 ],
 "metadata": {
  "interpreter": {
   "hash": "6d1fcd0faf9c0c1a122c3cdb7a7c19dd443f2034eb9039cf4018df7a701c73f7"
  },
  "kernelspec": {
   "display_name": "Python 3.9.9 64-bit ('ml': conda)",
   "language": "python",
   "name": "python3"
  },
  "language_info": {
   "codemirror_mode": {
    "name": "ipython",
    "version": 3
   },
   "file_extension": ".py",
   "mimetype": "text/x-python",
   "name": "python",
   "nbconvert_exporter": "python",
   "pygments_lexer": "ipython3",
   "version": "3.9.9"
  },
  "orig_nbformat": 4
 },
 "nbformat": 4,
 "nbformat_minor": 2
}
