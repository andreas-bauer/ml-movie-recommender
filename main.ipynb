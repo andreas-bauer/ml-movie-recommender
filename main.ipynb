{
 "cells": [
  {
   "cell_type": "markdown",
   "metadata": {},
   "source": [
    "Features for the MVP:\n",
    "- ratings\n",
    "- userID\n",
    "- genres (first)\n",
    "- language (first)\n",
    "- release_date (in ten year steps) \n",
    "- popularity\n",
    "- cast (first)"
   ]
  },
  {
   "cell_type": "code",
   "execution_count": 3,
   "metadata": {},
   "outputs": [],
   "source": [
    "import torch\n",
    "import pandas as pd"
   ]
  },
  {
   "cell_type": "markdown",
   "metadata": {},
   "source": [
    "Import CSV files into dataframes and merge them into one joined dataframe.\n",
    "For `movies_metadata.csv` three rows causing problems with mixed up columns. For instance, the `id` column contains date values like `1997-08-20`. We need to clean up the dataframes before we can merge them together."
   ]
  },
  {
   "cell_type": "code",
   "execution_count": 4,
   "metadata": {},
   "outputs": [
    {
     "name": "stderr",
     "output_type": "stream",
     "text": [
      "/Users/andi/opt/anaconda3/lib/python3.9/site-packages/IPython/core/interactiveshell.py:3444: DtypeWarning: Columns (10) have mixed types.Specify dtype option on import or set low_memory=False.\n",
      "  exec(code_obj, self.user_global_ns, self.user_ns)\n"
     ]
    },
    {
     "name": "stdout",
     "output_type": "stream",
     "text": [
      "70002\n",
      "30002\n"
     ]
    }
   ],
   "source": [
    "dfr = pd.read_csv('data/ratings_small.csv', usecols=['userId','movieId','rating'])\n",
    "dfm = pd.read_csv('data/movies_metadata.csv', usecols=['id', 'genres','original_title', 'original_language','release_date','popularity'])\n",
    "dfc = pd.read_csv('data/credits.csv', usecols=['id','cast'], index_col='id')\n",
    "\n",
    "# Clean up movies_metadata dataset by removing rows with invalid IDs\n",
    "dfm['id'] = pd.to_numeric(dfm['id'], errors='coerce')\n",
    "dfm = dfm.dropna(subset=['id'])\n",
    "dfm['id'] = dfm['id'].astype('int') \n",
    "dfm = dfm.set_index('id')\n",
    "\n",
    "total_size = len(dfr)\n",
    "train_size = int(total_size * 0.7)\n",
    "test_size = total_size - train_size\n",
    "\n",
    "train_dataset, test_dataset = torch.utils.data.random_split(dfr, [train_size,test_size], generator=torch.Generator().manual_seed(42))\n",
    "print(len(train_dataset))\n",
    "print(len(test_dataset))"
   ]
  }
 ],
 "metadata": {
  "interpreter": {
   "hash": "3a4adac15412adc1b776f6cd7af8f2ed487f9fac5dd66dee4d9b3f29b2e0ecb1"
  },
  "kernelspec": {
   "display_name": "Python 3.9.7 64-bit ('base': conda)",
   "language": "python",
   "name": "python3"
  },
  "language_info": {
   "codemirror_mode": {
    "name": "ipython",
    "version": 3
   },
   "file_extension": ".py",
   "mimetype": "text/x-python",
   "name": "python",
   "nbconvert_exporter": "python",
   "pygments_lexer": "ipython3",
   "version": "3.9.7"
  },
  "orig_nbformat": 4
 },
 "nbformat": 4,
 "nbformat_minor": 2
}
