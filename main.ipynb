{
 "cells": [
  {
   "cell_type": "markdown",
   "metadata": {},
   "source": [
    "Features for the MVP:\n",
    "- ratings\n",
    "- userID\n",
    "- genres (first)\n",
    "- language (first)\n",
    "- release_date (in ten year steps) \n",
    "- popularity\n",
    "- cast (first)"
   ]
  },
  {
   "cell_type": "code",
   "execution_count": 1,
   "metadata": {},
   "outputs": [],
   "source": [
    "import torch\n",
    "import pandas as pd"
   ]
  },
  {
   "cell_type": "code",
   "execution_count": 2,
   "metadata": {},
   "outputs": [
    {
     "name": "stdout",
     "output_type": "stream",
     "text": [
      "70002\n",
      "30002\n"
     ]
    }
   ],
   "source": [
    "df = pd.read_csv('data/ratings_small.csv')\n",
    "\n",
    "total_size = len(df)\n",
    "train_size = int(total_size * 0.7)\n",
    "test_size = total_size - train_size\n",
    "\n",
    "train_dataset, test_dataset = torch.utils.data.random_split(df, [train_size,test_size], generator=torch.Generator().manual_seed(42))\n",
    "print(len(train_dataset))\n",
    "print(len(test_dataset))"
   ]
  }
 ],
 "metadata": {
  "interpreter": {
   "hash": "3a4adac15412adc1b776f6cd7af8f2ed487f9fac5dd66dee4d9b3f29b2e0ecb1"
  },
  "kernelspec": {
   "display_name": "Python 3.9.7 64-bit ('base': conda)",
   "language": "python",
   "name": "python3"
  },
  "language_info": {
   "codemirror_mode": {
    "name": "ipython",
    "version": 3
   },
   "file_extension": ".py",
   "mimetype": "text/x-python",
   "name": "python",
   "nbconvert_exporter": "python",
   "pygments_lexer": "ipython3",
   "version": "3.9.7"
  },
  "orig_nbformat": 4
 },
 "nbformat": 4,
 "nbformat_minor": 2
}
